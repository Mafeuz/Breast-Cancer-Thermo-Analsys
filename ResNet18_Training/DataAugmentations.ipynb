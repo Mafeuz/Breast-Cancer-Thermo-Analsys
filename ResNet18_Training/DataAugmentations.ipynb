{
 "cells": [
  {
   "cell_type": "code",
   "execution_count": 2,
   "id": "23e7cca1",
   "metadata": {},
   "outputs": [],
   "source": [
    "import cv2\n",
    "import os"
   ]
  },
  {
   "cell_type": "code",
   "execution_count": 3,
   "id": "b43a5642",
   "metadata": {},
   "outputs": [],
   "source": [
    "def translation_aug(img_path, save_path, dx, dy):\n",
    "    \n",
    "    # Read img:\n",
    "    img = cv2.imread(img_path)\n",
    "    \n",
    "    # Translate img from dx, dy percentages:\n",
    "    dx = int(dx*img.shape[1])\n",
    "    dy = int(dy*img.shape[0])\n",
    "    img_translated = translation(img, dx, dy)\n",
    "\n",
    "    # Save translated img to save path:\n",
    "    img_name = img_path.split(os.sep)[-1].replace(img_path.split(os.sep)[-1].split('.')[-1], '')\n",
    "    img_ext  = img_path.split(os.sep)[-1].split('.')[-1]\n",
    "    cv2.imwrite(f'{save_path}/{img_name}_AugTransX{dx}Y{dy}.{img_ext}', img_translated)"
   ]
  },
  {
   "cell_type": "code",
   "execution_count": 4,
   "id": "e03bc8c6",
   "metadata": {},
   "outputs": [],
   "source": [
    "def rotation_aug(img_path, save_path, degree):\n",
    "    \n",
    "    # Read img:\n",
    "    img = cv2.imread(img_path)\n",
    "    \n",
    "    # Rotate img:\n",
    "    img_rotated = rotation(img, degree)\n",
    "\n",
    "    # Save rotated img to save path:\n",
    "    img_name = img_path.split(os.sep)[-1].replace(img_path.split(os.sep)[-1].split('.')[-1], '')\n",
    "    img_ext  = img_path.split(os.sep)[-1].split('.')[-1]\n",
    "    cv2.imwrite(f'{save_path}/{img_name}_AugRot{degree}.{img_ext}', img_rotated)"
   ]
  },
  {
   "cell_type": "code",
   "execution_count": null,
   "id": "7c5f6a9c",
   "metadata": {},
   "outputs": [],
   "source": [
    "def flip_aug(img_path, save_path, flip=1):\n",
    "    \n",
    "    flip_dir = {'Hori':1, 'Vert':-1}\n",
    "    \n",
    "    # Read img:\n",
    "    img = cv2.imread(img_path)\n",
    "    \n",
    "    # Rotate img:\n",
    "    img = cv2.flip(img, flip)\n",
    "    \n",
    "    # Save rotated img to save path:\n",
    "    img_name = img_path.split(os.sep)[-1].replace(img_path.split(os.sep)[-1].split('.')[-1], '')\n",
    "    img_ext  = img_path.split(os.sep)[-1].split('.')[-1]\n",
    "    cv2.imwrite(f'{save_path}/{img_name}_AugFlip{flip_dir[flip]}.{img_ext}', img)"
   ]
  }
 ],
 "metadata": {
  "kernelspec": {
   "display_name": "Python 3 (ipykernel)",
   "language": "python",
   "name": "python3"
  },
  "language_info": {
   "codemirror_mode": {
    "name": "ipython",
    "version": 3
   },
   "file_extension": ".py",
   "mimetype": "text/x-python",
   "name": "python",
   "nbconvert_exporter": "python",
   "pygments_lexer": "ipython3",
   "version": "3.7.9"
  }
 },
 "nbformat": 4,
 "nbformat_minor": 5
}
